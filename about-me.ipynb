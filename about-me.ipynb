{
 "cells": [
  {
   "cell_type": "markdown",
   "metadata": {},
   "source": [
    "## About Me Lab: AI Engineering, Data Analytics & Data Science\n",
    "\n",
    "In this notebook, you'll write a short introduction about yourself using Python!\n",
    "\n",
    "### Instructions:\n",
    "- Fill in the variables below with your details.\n",
    "- Run the cell to print your introduction.\n",
    "\n",
    "### What to Include:\n",
    "- Your name.\n",
    "- Why you're interested in AI Engineering, Data Analytics or Data Science.\n",
    "- A fun fact about yourself or a goal for this course.\n"
   ]
  },
  {
   "cell_type": "code",
   "execution_count": 3,
   "metadata": {},
   "outputs": [
    {
     "name": "stdout",
     "output_type": "stream",
     "text": [
      "Hi! My name is Benhamouche Sabrina. I'm currently a beginner in Data Analytics, what excites me about it is the opportunity to learn how to extract meaningful insights from data and use them to solve real-world problems. I'm motivated to grow my expertise and explore the many possibilities that Data Analytics offers: My goal for this course is to acquire the necessary skills and knowledge to confidently start a career in Data Analytics.\n"
     ]
    }
   ],
   "source": [
    "# About Me\n",
    "# Please fill in the following details.\n",
    "\n",
    "name = \"Benhamouche Sabrina\"\n",
    "reason = \"I'm currently a beginner in Data Analytics, what excites me about it is the opportunity to learn how to extract meaningful insights from data and use them to solve real-world problems. I'm motivated to grow my expertise and explore the many possibilities that Data Analytics offers\"\n",
    "fun_fact = \"My goal for this course is to acquire the necessary skills and knowledge to confidently start a career in Data Analytics\"\n",
    "\n",
    "print(f\"Hi! My name is {name}. {reason}: {fun_fact}.\")"
   ]
  }
 ],
 "metadata": {
  "kernelspec": {
   "display_name": "Python 3",
   "language": "python",
   "name": "python3"
  },
  "language_info": {
   "codemirror_mode": {
    "name": "ipython",
    "version": 3
   },
   "file_extension": ".py",
   "mimetype": "text/x-python",
   "name": "python",
   "nbconvert_exporter": "python",
   "pygments_lexer": "ipython3",
   "version": "3.13.2"
  }
 },
 "nbformat": 4,
 "nbformat_minor": 2
}
